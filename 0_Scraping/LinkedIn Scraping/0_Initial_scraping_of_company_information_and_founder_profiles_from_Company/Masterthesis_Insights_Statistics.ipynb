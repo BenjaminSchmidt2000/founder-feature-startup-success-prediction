{
 "cells": [
  {
   "cell_type": "code",
   "execution_count": 1,
   "id": "74f09f3e-05a0-4f37-9f93-a76bd8ae72e1",
   "metadata": {},
   "outputs": [],
   "source": [
    "#!pip install import-ipynb"
   ]
  },
  {
   "cell_type": "code",
   "execution_count": null,
   "id": "c3e36352-64d2-4c2c-b738-95c0734d3da9",
   "metadata": {},
   "outputs": [],
   "source": [
    "#!pip install ImageHash"
   ]
  },
  {
   "cell_type": "code",
   "execution_count": 2,
   "id": "f96c6d55-ec10-4ae5-87e2-440ea0ba38f9",
   "metadata": {},
   "outputs": [],
   "source": [
    "#!pip install pyautogui\n"
   ]
  },
  {
   "cell_type": "code",
   "execution_count": 1,
   "id": "7c8aebb3-31af-487a-8b57-fb1948fdffc4",
   "metadata": {
    "jupyter": {
     "source_hidden": true
    }
   },
   "outputs": [],
   "source": [
    "import requests\n",
    "from bs4 import BeautifulSoup\n",
    "import re\n",
    "from datetime import datetime\n",
    "import pandas as pd\n",
    "from selenium import webdriver\n",
    "from selenium.webdriver.common.by import By\n",
    "from selenium.webdriver.support.ui import WebDriverWait\n",
    "from selenium.webdriver.support import expected_conditions as EC"
   ]
  },
  {
   "cell_type": "code",
   "execution_count": 3,
   "id": "9616c78c-b297-4702-a9e2-f7b9f4293c06",
   "metadata": {
    "collapsed": true,
    "jupyter": {
     "outputs_hidden": true
    }
   },
   "outputs": [
    {
     "data": {
      "text/plain": [
       "\"\\n# Assuming you have a list of company names to loop through\\ncompany_names = ['tesla-motors', 'another-company', 'yet-another-company']  # Example company names\\nresult_df = pd.DataFrame()  # Initialize an empty DataFrame\\n\\n# Example usage\\ndriver = webdriver.Chrome()  # Initialize your driver here\\n\\nfor company in company_names:\\n    company_data = extract_employee_growth(driver, company)\\n    # Convert the dictionary to a DataFrame\\n    temp_df = pd.DataFrame([company_data])  # Create a DataFrame from the dictionary\\n    # Concatenate the new DataFrame to the result_df\\n    result_df = pd.concat([result_df, temp_df], ignore_index=True)\\n\\n# Clean up the driver\\n#driver.quit()\\n\\n# Print the resulting DataFrame\\nprint(result_df)\\n\""
      ]
     },
     "execution_count": 3,
     "metadata": {},
     "output_type": "execute_result"
    }
   ],
   "source": [
    "# Monthly amount of employees of the last two years\n",
    "def extract_employee_growth(driver, company_name):\n",
    "    # Get the page\n",
    "    #driver.get(f\"https://www.linkedin.com/company/{company_name}/insights/\")\n",
    "    page_source = driver.page_source\n",
    "    soup = BeautifulSoup(page_source, 'html.parser')\n",
    "\n",
    "    # Adjust the selector as per the actual HTML structure\n",
    "    svg_code = soup.find('g', class_='highcharts-series-group')\n",
    "\n",
    "    # Initialize a dictionary for storing company data\n",
    "    company_data = {'Company': company_name}\n",
    "\n",
    "    # If SVG code was found, extract it\n",
    "    if svg_code:\n",
    "        svg_code = str(svg_code)\n",
    "\n",
    "        # Regular expression to extract the employee counts from aria-label attributes\n",
    "        pattern = r'aria-label=\"[^\"]* (\\d{1,3}(?:,\\d{3})*) employees'\n",
    "\n",
    "        # Find all matches\n",
    "        employee_counts = re.findall(pattern, svg_code)\n",
    "\n",
    "        # Clean up the numbers (remove commas)\n",
    "        employee_counts = [int(count.replace(',', '')) for count in employee_counts]\n",
    "\n",
    "        # Create a list of month labels from October 2022 to October 2024\n",
    "        start_date = datetime(2022, 10, 1)\n",
    "        \n",
    "        # Generate month labels corresponding to the number of employee counts\n",
    "        month_labels = []\n",
    "\n",
    "        for i in range(len(employee_counts)):\n",
    "            month_labels.append((start_date.month + i) % 12 or 12)  # Month in range 1-12\n",
    "            year = start_date.year + (start_date.month + i - 1) // 12  # Calculate the correct year\n",
    "            month_labels[-1] = f\"{datetime(year, month_labels[-1], 1).strftime('%B %Y')}\"\n",
    "\n",
    "        # Add employee counts to the company data dictionary with month labels as keys\n",
    "        for month, count in zip(month_labels, employee_counts):\n",
    "            company_data[month] = count\n",
    "    else:\n",
    "        print(f\"SVG code not found for {company_name}.\")\n",
    "\n",
    "    return company_data\n",
    "\"\"\"\n",
    "# Assuming you have a list of company names to loop through\n",
    "company_names = ['tesla-motors', 'another-company', 'yet-another-company']  # Example company names\n",
    "result_df = pd.DataFrame()  # Initialize an empty DataFrame\n",
    "\n",
    "# Example usage\n",
    "driver = webdriver.Chrome()  # Initialize your driver here\n",
    "\n",
    "for company in company_names:\n",
    "    company_data = extract_employee_growth(driver, company)\n",
    "    # Convert the dictionary to a DataFrame\n",
    "    temp_df = pd.DataFrame([company_data])  # Create a DataFrame from the dictionary\n",
    "    # Concatenate the new DataFrame to the result_df\n",
    "    result_df = pd.concat([result_df, temp_df], ignore_index=True)\n",
    "\n",
    "# Clean up the driver\n",
    "#driver.quit()\n",
    "\n",
    "# Print the resulting DataFrame\n",
    "print(result_df)\n",
    "\"\"\""
   ]
  },
  {
   "cell_type": "code",
   "execution_count": 5,
   "id": "ef5feaeb-051d-42b6-b1db-4839421fad26",
   "metadata": {
    "collapsed": true,
    "jupyter": {
     "outputs_hidden": true
    }
   },
   "outputs": [
    {
     "data": {
      "text/plain": [
       "\"\\n# Assuming you have a list of company names to loop through\\ncompany_names = ['tesla-motors', 'another-company', 'yet-another-company']  # Example company names\\nresult_df = pd.DataFrame()  # Initialize an empty DataFrame\\n\\n# Example usage\\ndriver = webdriver.Chrome()  # Initialize your driver here\\n\\nfor company in company_names:\\n    company_data = employee_distribution(driver, company)\\n    # Convert the dictionary to a DataFrame and append to the result_df\\n    result_df = result_df.append(company_data, ignore_index=True)\\n\\n# Clean up the driver\\n#driver.quit()\\n\\n# Print the resulting DataFrame\\nprint(result_df)\\n\""
      ]
     },
     "execution_count": 5,
     "metadata": {},
     "output_type": "execute_result"
    }
   ],
   "source": [
    "#Amount of employees in the different positions\n",
    "def employee_distribution(driver, company_name):\n",
    "    # Get the page\n",
    "    #driver.get(f\"https://www.linkedin.com/company/{company_name}/insights/\")\n",
    "    page_source = driver.page_source\n",
    "    soup = BeautifulSoup(page_source, 'html.parser')\n",
    "    \n",
    "    # Find the specific div containing the target tbody\n",
    "    div_growth_table = soup.find('div', class_='org-function-growth-table')\n",
    "    \n",
    "    # Prepare a dictionary to store the extracted data for this company\n",
    "    company_data = {'Company': company_name}\n",
    "    \n",
    "    # Check if the div was found\n",
    "    if div_growth_table:\n",
    "        tbody = div_growth_table.find('tbody')\n",
    "        \n",
    "        # Loop through each row in the tbody\n",
    "        for row in tbody.find_all('tr'):\n",
    "            # Extracting the area name\n",
    "            area_cell = row.find('td', headers=\"org-function-growth-table__a11y-functions-function\")\n",
    "            num_employees_cell = row.find('td', headers=\"org-function-growth-table__a11y-functions-num-employees\")\n",
    "            \n",
    "            # Check if area and number of employees were found\n",
    "            if area_cell and num_employees_cell:\n",
    "                area = area_cell.text.strip()\n",
    "                num_employees = int(num_employees_cell.text.strip())\n",
    "                company_data[area] = num_employees  # Add to dictionary\n",
    "            else:\n",
    "                print(\"Some data not found in this row.\")\n",
    "    else:\n",
    "        print(\"The specified div was not found in the response.\")\n",
    "    \n",
    "    return company_data\n",
    "\"\"\"\n",
    "# Assuming you have a list of company names to loop through\n",
    "company_names = ['tesla-motors', 'another-company', 'yet-another-company']  # Example company names\n",
    "result_df = pd.DataFrame()  # Initialize an empty DataFrame\n",
    "\n",
    "# Example usage\n",
    "driver = webdriver.Chrome()  # Initialize your driver here\n",
    "\n",
    "for company in company_names:\n",
    "    company_data = employee_distribution(driver, company)\n",
    "    # Convert the dictionary to a DataFrame and append to the result_df\n",
    "    result_df = result_df.append(company_data, ignore_index=True)\n",
    "\n",
    "# Clean up the driver\n",
    "#driver.quit()\n",
    "\n",
    "# Print the resulting DataFrame\n",
    "print(result_df)\n",
    "\"\"\""
   ]
  },
  {
   "cell_type": "code",
   "execution_count": 5,
   "id": "9f5fac75-65b5-4e40-bcf2-8fe170423330",
   "metadata": {},
   "outputs": [],
   "source": [
    "# Put data into dataframes\n",
    "def employee_counter(internal_id, company_name, employee_number_df, driver):\n",
    "    try:\n",
    "        # Extract employee growth data for the specified company\n",
    "        company_size_data = extract_employee_growth(driver, company_name)\n",
    "    \n",
    "        # Add the internal_id to the company size data\n",
    "        company_size_data['Internal ID'] = internal_id  # Add internal_id to the data dictionary\n",
    "    \n",
    "        # Convert the updated dictionary to a DataFrame\n",
    "        temp_size_df = pd.DataFrame([company_size_data])  # Create a DataFrame from the dictionary\n",
    "    \n",
    "        # Move 'Internal ID' to the first column and rearrange DataFrame columns\n",
    "        temp_size_df = temp_size_df[['Internal ID'] + [col for col in temp_size_df.columns if col != 'Internal ID']]\n",
    "    \n",
    "        # Concatenate the new DataFrame to the employee_number_df\n",
    "        employee_number_df = pd.concat([employee_number_df, temp_size_df], ignore_index=True)\n",
    "    except:\n",
    "        pass\n",
    "    \n",
    "    # Return the updated DataFrame\n",
    "    return employee_number_df\n",
    "\n",
    "    \"\"\"# Assuming you have a list of company names to loop through\n",
    "    #company_names = ['tesla-motors', 'another-company', 'yet-another-company']  # Example company names\n",
    "    #result_df = pd.DataFrame()  # Initialize an empty DataFrame\n",
    "    \n",
    "    # Example usage\n",
    "    #driver = webdriver.Chrome()  # Initialize your driver here\n",
    "    \n",
    "    #for company in company_names:\n",
    "    company_size_data = extract_employee_growth(driver, company_name)\n",
    "    # Convert the dictionary to a DataFrame\n",
    "    temp_size_df = pd.DataFrame([company_size_data])  # Create a DataFrame from the dictionary\n",
    "    # Concatenate the new DataFrame to the result_df\n",
    "    employee_number_df = pd.concat([employee_number_df, temp_size_df], ignore_index=True)\n",
    "    \n",
    "    # Clean up the driver\n",
    "    #driver.quit()\n",
    "    \n",
    "    # Print the resulting DataFrame\n",
    "    return employee_number_df\"\"\"\n",
    "\n",
    "def diversity(internal_id, company_name, employee_diversity_df, driver):\n",
    "    try:\n",
    "        # Extract employee diversity data for the specified company\n",
    "        company_diversity_data = employee_distribution(driver, company_name)\n",
    "    \n",
    "        # Add the internal_id to the company diversity data\n",
    "        company_diversity_data['Internal ID'] = internal_id  # Add internal_id to the data dictionary\n",
    "    \n",
    "        # Convert the updated dictionary to a DataFrame\n",
    "        temp_diversity_df = pd.DataFrame([company_diversity_data])  # Create a DataFrame from the dictionary\n",
    "    \n",
    "        # Move 'Internal ID' to the first column and rearrange DataFrame columns\n",
    "        temp_diversity_df = temp_diversity_df[['Internal ID'] + [col for col in temp_diversity_df.columns if col != 'Internal ID']]\n",
    "    \n",
    "        # Concatenate the new DataFrame to the employee_diversity_df\n",
    "        employee_diversity_df = pd.concat([employee_diversity_df, temp_diversity_df], ignore_index=True)\n",
    "    except:\n",
    "        pass\n",
    "    # Return the updated DataFrame\n",
    "    return employee_diversity_df\n",
    "\n",
    "    \"\"\"#driver = webdriver.Chrome()  # Initialize your driver here\n",
    "    company_diversity_data = employee_distribution(driver, company_name)\n",
    "    # Convert the dictionary to a DataFrame\n",
    "    temp_diversity_df = pd.DataFrame([company_diversity_data])  # Create a DataFrame from the dictionary\n",
    "    # Concatenate the new DataFrame to the result_df\n",
    "    employee_diversity_df = pd.concat([employee_diversity_df, temp_diversity_df], ignore_index=True)\n",
    "    \n",
    "    # Clean up the driver\n",
    "    #driver.quit()\n",
    "    \n",
    "    # Print the resulting DataFrame\n",
    "    return employee_diversity_df\"\"\"\n"
   ]
  },
  {
   "cell_type": "code",
   "execution_count": 3,
   "id": "8d1d00e3-71ce-4812-8c6a-262f6ae11bb5",
   "metadata": {},
   "outputs": [],
   "source": [
    "def To_Insights(driver):\n",
    "    # CSS selector to find the Insights button\n",
    "    try:\n",
    "        link = WebDriverWait(driver, 10).until(\n",
    "            EC.element_to_be_clickable((By.LINK_TEXT, \"Insights\"))  # Example XPATH\"\n",
    "        )\n",
    "        \n",
    "        # Click the button\n",
    "        link.click()\n",
    "\n",
    "    except Exception as e:\n",
    "        print(\"error\")\n",
    "    \"\"\"\n",
    "    css_selector = \"li.org-page-navigation__item.m0.mr1 a.ember-view.pv3.ph4.t-16.t-bold.t-black--light.org-page-navigation__item-anchor\"\n",
    "    \n",
    "    \n",
    "    try:\n",
    "        # Wait for the element to be clickable\n",
    "        insights_button = WebDriverWait(driver, 10).until(\n",
    "            EC.element_to_be_clickable((By.CSS_SELECTOR, css_selector))\n",
    "        )\n",
    "        # Click the button\n",
    "        insights_button.click()\n",
    "        #print(\"Clicked the Insights button.\")\n",
    "    except Exception as e:\n",
    "        print(\"error Clicking the Insights button\")\n",
    "        \"\"\""
   ]
  },
  {
   "cell_type": "code",
   "execution_count": null,
   "id": "92cb14f7-73a2-434d-bec8-facef3c9a436",
   "metadata": {},
   "outputs": [],
   "source": []
  }
 ],
 "metadata": {
  "kernelspec": {
   "display_name": "Python 3 (ipykernel)",
   "language": "python",
   "name": "python3"
  },
  "language_info": {
   "codemirror_mode": {
    "name": "ipython",
    "version": 3
   },
   "file_extension": ".py",
   "mimetype": "text/x-python",
   "name": "python",
   "nbconvert_exporter": "python",
   "pygments_lexer": "ipython3",
   "version": "3.11.8"
  }
 },
 "nbformat": 4,
 "nbformat_minor": 5
}
