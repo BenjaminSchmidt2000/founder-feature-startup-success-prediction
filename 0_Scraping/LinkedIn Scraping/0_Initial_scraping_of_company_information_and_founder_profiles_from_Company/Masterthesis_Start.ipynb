{
 "cells": [
  {
   "cell_type": "code",
   "execution_count": 1,
   "id": "29d29acb-6edd-49a9-b056-021ac8704355",
   "metadata": {},
   "outputs": [],
   "source": [
    "#!pip install selenium\n"
   ]
  },
  {
   "cell_type": "code",
   "execution_count": 2,
   "id": "94ea45c6-d36c-4afa-aa45-737ab78898f3",
   "metadata": {},
   "outputs": [],
   "source": [
    "#!pip install webdriver-manager\n"
   ]
  },
  {
   "cell_type": "code",
   "execution_count": 9,
   "id": "a81f452c-fb43-4895-990b-f7b4d0752a24",
   "metadata": {},
   "outputs": [
    {
     "name": "stdout",
     "output_type": "stream",
     "text": [
      "Requirement already satisfied: import-ipynb in c:\\users\\benni\\anaconda3\\envs\\adpro\\lib\\site-packages (0.1.4)\n",
      "Requirement already satisfied: IPython in c:\\users\\benni\\anaconda3\\envs\\adpro\\lib\\site-packages (from import-ipynb) (8.20.0)\n",
      "Requirement already satisfied: nbformat in c:\\users\\benni\\anaconda3\\envs\\adpro\\lib\\site-packages (from import-ipynb) (5.9.2)\n",
      "Requirement already satisfied: decorator in c:\\users\\benni\\anaconda3\\envs\\adpro\\lib\\site-packages (from IPython->import-ipynb) (5.1.1)\n",
      "Requirement already satisfied: jedi>=0.16 in c:\\users\\benni\\anaconda3\\envs\\adpro\\lib\\site-packages (from IPython->import-ipynb) (0.18.1)\n",
      "Requirement already satisfied: matplotlib-inline in c:\\users\\benni\\anaconda3\\envs\\adpro\\lib\\site-packages (from IPython->import-ipynb) (0.1.6)\n",
      "Requirement already satisfied: prompt-toolkit<3.1.0,>=3.0.41 in c:\\users\\benni\\anaconda3\\envs\\adpro\\lib\\site-packages (from IPython->import-ipynb) (3.0.43)\n",
      "Requirement already satisfied: pygments>=2.4.0 in c:\\users\\benni\\anaconda3\\envs\\adpro\\lib\\site-packages (from IPython->import-ipynb) (2.15.1)\n",
      "Requirement already satisfied: stack-data in c:\\users\\benni\\anaconda3\\envs\\adpro\\lib\\site-packages (from IPython->import-ipynb) (0.2.0)\n",
      "Requirement already satisfied: traitlets>=5 in c:\\users\\benni\\anaconda3\\envs\\adpro\\lib\\site-packages (from IPython->import-ipynb) (5.7.1)\n",
      "Requirement already satisfied: colorama in c:\\users\\benni\\anaconda3\\envs\\adpro\\lib\\site-packages (from IPython->import-ipynb) (0.4.6)\n",
      "Requirement already satisfied: fastjsonschema in c:\\users\\benni\\anaconda3\\envs\\adpro\\lib\\site-packages (from nbformat->import-ipynb) (2.16.2)\n",
      "Requirement already satisfied: jsonschema>=2.6 in c:\\users\\benni\\anaconda3\\envs\\adpro\\lib\\site-packages (from nbformat->import-ipynb) (4.19.2)\n",
      "Requirement already satisfied: jupyter-core in c:\\users\\benni\\anaconda3\\envs\\adpro\\lib\\site-packages (from nbformat->import-ipynb) (5.5.0)\n",
      "Requirement already satisfied: parso<0.9.0,>=0.8.0 in c:\\users\\benni\\anaconda3\\envs\\adpro\\lib\\site-packages (from jedi>=0.16->IPython->import-ipynb) (0.8.3)\n",
      "Requirement already satisfied: attrs>=22.2.0 in c:\\users\\benni\\anaconda3\\envs\\adpro\\lib\\site-packages (from jsonschema>=2.6->nbformat->import-ipynb) (24.2.0)\n",
      "Requirement already satisfied: jsonschema-specifications>=2023.03.6 in c:\\users\\benni\\anaconda3\\envs\\adpro\\lib\\site-packages (from jsonschema>=2.6->nbformat->import-ipynb) (2023.7.1)\n",
      "Requirement already satisfied: referencing>=0.28.4 in c:\\users\\benni\\anaconda3\\envs\\adpro\\lib\\site-packages (from jsonschema>=2.6->nbformat->import-ipynb) (0.30.2)\n",
      "Requirement already satisfied: rpds-py>=0.7.1 in c:\\users\\benni\\anaconda3\\envs\\adpro\\lib\\site-packages (from jsonschema>=2.6->nbformat->import-ipynb) (0.10.6)\n",
      "Requirement already satisfied: wcwidth in c:\\users\\benni\\anaconda3\\envs\\adpro\\lib\\site-packages (from prompt-toolkit<3.1.0,>=3.0.41->IPython->import-ipynb) (0.2.5)\n",
      "Requirement already satisfied: platformdirs>=2.5 in c:\\users\\benni\\anaconda3\\envs\\adpro\\lib\\site-packages (from jupyter-core->nbformat->import-ipynb) (3.10.0)\n",
      "Requirement already satisfied: pywin32>=300 in c:\\users\\benni\\anaconda3\\envs\\adpro\\lib\\site-packages (from jupyter-core->nbformat->import-ipynb) (305.1)\n",
      "Requirement already satisfied: executing in c:\\users\\benni\\anaconda3\\envs\\adpro\\lib\\site-packages (from stack-data->IPython->import-ipynb) (0.8.3)\n",
      "Requirement already satisfied: asttokens in c:\\users\\benni\\anaconda3\\envs\\adpro\\lib\\site-packages (from stack-data->IPython->import-ipynb) (2.0.5)\n",
      "Requirement already satisfied: pure-eval in c:\\users\\benni\\anaconda3\\envs\\adpro\\lib\\site-packages (from stack-data->IPython->import-ipynb) (0.2.2)\n",
      "Requirement already satisfied: six in c:\\users\\benni\\anaconda3\\envs\\adpro\\lib\\site-packages (from asttokens->stack-data->IPython->import-ipynb) (1.16.0)\n"
     ]
    }
   ],
   "source": [
    "#!pip install import-ipynb\n"
   ]
  },
  {
   "cell_type": "code",
   "execution_count": 8,
   "id": "52613088-6cce-40d9-acea-0b64c1e120aa",
   "metadata": {},
   "outputs": [],
   "source": [
    "import import_ipynb\n",
    "import Masterthesis_Persons_Statistics\n",
    "\n",
    "import os\n",
    "import re\n",
    "import json\n",
    "import random\n",
    "import time\n",
    "import csv\n",
    "import urllib.parse\n",
    "import pandas as pd\n",
    "from selenium.webdriver.chrome.service import Service\n",
    "from selenium import webdriver\n",
    "from selenium.webdriver.common.by import By\n",
    "from selenium.webdriver.chrome.options import Options\n",
    "from selenium.common.exceptions import NoSuchElementException, ElementClickInterceptedException, TimeoutException\n",
    "from selenium.webdriver.support.ui import WebDriverWait\n",
    "from selenium.webdriver.support import expected_conditions as EC\n",
    "from selenium.webdriver.common.keys import Keys"
   ]
  },
  {
   "cell_type": "code",
   "execution_count": 10,
   "id": "40c24b49-7fb0-4b53-ab7a-f2e6ae7170fd",
   "metadata": {},
   "outputs": [],
   "source": [
    "def start(email, password_input):\n",
    "    def get_random_user_agent():\n",
    "        user_agents = [\n",
    "            # Chrome on Windows\n",
    "            \"Mozilla/5.0 (Windows NT 10.0; Win64; x64) AppleWebKit/537.36 (KHTML, like Gecko) Chrome/91.0.4472.124 Safari/537.36\",\n",
    "            \"Mozilla/5.0 (Windows NT 10.0; Win64; x64) AppleWebKit/537.36 (KHTML, like Gecko) Chrome/92.0.4515.159 Safari/537.36\",\n",
    "            \"Mozilla/5.0 (Windows NT 10.0; Win64; x64) AppleWebKit/537.36 (KHTML, like Gecko) Chrome/93.0.4577.63 Safari/537.36\",\n",
    "    \n",
    "            # Chrome on macOS\n",
    "            \"Mozilla/5.0 (Macintosh; Intel Mac OS X 10_15_7) AppleWebKit/537.36 (KHTML, like Gecko) Chrome/91.0.4472.114 Safari/537.36\",\n",
    "            \"Mozilla/5.0 (Macintosh; Intel Mac OS X 10_14_6) AppleWebKit/537.36 (KHTML, like Gecko) Chrome/90.0.4430.212 Safari/537.36\",\n",
    "    \n",
    "            # Chrome on Linux\n",
    "            \"Mozilla/5.0 (X11; Linux x86_64) AppleWebKit/537.36 (KHTML, like Gecko) Chrome/88.0.4324.150 Safari/537.36\",\n",
    "            \"Mozilla/5.0 (X11; Linux x86_64) AppleWebKit/537.36 (KHTML, like Gecko) Chrome/89.0.4389.114 Safari/537.36\",\n",
    "    \n",
    "            # Firefox on Windows\n",
    "            \"Mozilla/5.0 (Windows NT 10.0; Win64; x64; rv:89.0) Gecko/20100101 Firefox/89.0\",\n",
    "            \"Mozilla/5.0 (Windows NT 10.0; Win64; x64; rv:90.0) Gecko/20100101 Firefox/90.0\",\n",
    "            \"Mozilla/5.0 (Windows NT 10.0; Win64; x64; rv:91.0) Gecko/20100101 Firefox/91.0\",\n",
    "    \n",
    "            # Firefox on macOS\n",
    "            \"Mozilla/5.0 (Macintosh; Intel Mac OS X 10_15_7; rv:89.0) Gecko/20100101 Firefox/89.0\",\n",
    "            \"Mozilla/5.0 (Macintosh; Intel Mac OS X 10.15; rv:91.0) Gecko/20100101 Firefox/91.0\",\n",
    "            \"Mozilla/5.0 (Macintosh; Intel Mac OS X 10.14; rv:90.0) Gecko/20100101 Firefox/90.0\",\n",
    "    \n",
    "            # Firefox on Linux\n",
    "            \"Mozilla/5.0 (X11; Ubuntu; Linux x86_64; rv:89.0) Gecko/20100101 Firefox/89.0\",\n",
    "            \"Mozilla/5.0 (X11; Ubuntu; Linux x86_64; rv:90.0) Gecko/20100101 Firefox/90.0\",\n",
    "            \"Mozilla/5.0 (X11; Ubuntu; Linux x86_64; rv:91.0) Gecko/20100101 Firefox/91.0\",\n",
    "    \n",
    "            # Safari on macOS\n",
    "            \"Mozilla/5.0 (Macintosh; Intel Mac OS X 10_15_7) AppleWebKit/605.1.15 (KHTML, like Gecko) Version/14.1.2 Safari/605.1.15\",\n",
    "            \"Mozilla/5.0 (Macintosh; Intel Mac OS X 10_14_6) AppleWebKit/605.1.15 (KHTML, like Gecko) Version/13.1.2 Safari/605.1.15\",\n",
    "    \n",
    "            # Edge on Windows\n",
    "            \"Mozilla/5.0 (Windows NT 10.0; Win64; x64) AppleWebKit/537.36 (KHTML, like Gecko) Chrome/91.0.864.59 Safari/537.36 Edg/91.0.864.59\",\n",
    "            \"Mozilla/5.0 (Windows NT 10.0; Win64; x64) AppleWebKit/537.36 (KHTML, like Gecko) Chrome/92.0.902.55 Safari/537.36 Edg/92.0.902.55\",\n",
    "            \"Mozilla/5.0 (Windows NT 10.0; Win64; x64) AppleWebKit/537.36 (KHTML, like Gecko) Chrome/93.0.961.38 Safari/537.36 Edg/93.0.961.38\",\n",
    "    \n",
    "            ]\n",
    "        return random.choice(user_agents)\n",
    "    \n",
    "    # Initialize the Chrome WebDriver with configured options\n",
    "    chrome_options = Options()\n",
    "    chrome_options.add_argument(\"--incognito\")\n",
    "    chrome_options.add_argument(\"--start-maximized\")  # Start maximized (full-screen)\n",
    "    chrome_options.add_argument(f\"user-agent={get_random_user_agent()}\")\n",
    "    # chrome_options.add_argument(\"--headless\")  # Use headless mode for stealth\n",
    "    service = Service(executable_path=\"C:\\\\Program Files (x86)\\\\chromedriver.exe\")  # Correct the path to use double backslashes\n",
    "    \n",
    "    # Create a new instance of the Chrome driver\n",
    "    driver = webdriver.Chrome(service=service, options=chrome_options)\n",
    "    \n",
    "    # Open LinkedIn and navigate to login page\n",
    "    driver.get(\"https://www.linkedin.com/login?fromSignIn=true&trk=guest_homepage-basic_nav-header-signin\")\n",
    "    time.sleep(random.uniform(2, 5))\n",
    "\n",
    "\n",
    "    username = driver.find_element(By.NAME, \"session_key\")\n",
    "    password = driver.find_element(By.NAME, \"session_password\")\n",
    "    signin = driver.find_element(By.CSS_SELECTOR, \"button.btn__primary--large.from__button--floating\")\n",
    "\n",
    "    time.sleep(random.uniform(2, 5))\n",
    "    username.send_keys(email)  # Replace with your email\n",
    "    time.sleep(random.uniform(2, 5))\n",
    "    password.send_keys(password_input)  # Replace with your password\n",
    "    time.sleep(random.uniform(2, 5))\n",
    "    signin.click()\n",
    "    \n",
    "    return driver\n",
    "    "
   ]
  },
  {
   "cell_type": "code",
   "execution_count": null,
   "id": "45045767-8537-435a-ad29-dc4961612483",
   "metadata": {},
   "outputs": [],
   "source": []
  }
 ],
 "metadata": {
  "kernelspec": {
   "display_name": "Python 3 (ipykernel)",
   "language": "python",
   "name": "python3"
  },
  "language_info": {
   "codemirror_mode": {
    "name": "ipython",
    "version": 3
   },
   "file_extension": ".py",
   "mimetype": "text/x-python",
   "name": "python",
   "nbconvert_exporter": "python",
   "pygments_lexer": "ipython3",
   "version": "3.11.8"
  }
 },
 "nbformat": 4,
 "nbformat_minor": 5
}
